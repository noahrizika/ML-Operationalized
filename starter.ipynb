{
 "cells": [
  {
   "cell_type": "markdown",
   "metadata": {},
   "source": [
    "# Deploy and monitor a machine learning workflow for Image Classification"
   ]
  },
  {
   "cell_type": "markdown",
   "metadata": {},
   "source": [
    "## Setting up this notebook\n",
    "\n",
    "Notes about the instance size and kernel setup: this notebook has been tested on\n",
    "\n",
    "1. The `Python 3 (Data Science)` kernel\n",
    "2. The `ml.t3.medium` Sagemaker notebook instance\n",
    "\n",
    "## Data Staging\n",
    "\n",
    "We'll use a sample dataset called CIFAR to simulate the challenges Scones Unlimited are facing in Image Classification. In order to start working with CIFAR we'll need to:\n",
    "\n",
    "1. Extract the data from a hosting service\n",
    "2. Transform it into a usable shape and format\n",
    "3. Load it into a production system\n",
    "\n",
    "In other words, we're going to do some simple ETL!\n",
    "\n",
    "### 1. Extract the data from the hosting service\n",
    "\n",
    "In the cell below, define a function `extract_cifar_data` that extracts python version of the CIFAR-100 dataset. The CIFAR dataaset is open source and generously hosted by the University of Toronto at: https://www.cs.toronto.edu/~kriz/cifar-100-python.tar.gz "
   ]
  },
  {
   "cell_type": "code",
   "execution_count": 23,
   "metadata": {
    "tags": []
   },
   "outputs": [],
   "source": [
    "import requests\n",
    "\n",
    "def extract_cifar_data(url, filename=\"cifar.tar.gz\"):\n",
    "    \"\"\"A function for extracting the CIFAR-100 dataset and storing it as a gzipped file\n",
    "    \n",
    "    Arguments:\n",
    "    url      -- the URL where the dataset is hosted\n",
    "    filename -- the full path where the dataset will be written\n",
    "    \n",
    "    \"\"\"\n",
    "    \n",
    "    # Request the data from the data url\n",
    "    r = requests.get(url)\n",
    "    with open(filename, \"wb\") as file_context:\n",
    "        file_context.write(r.content)\n",
    "    return"
   ]
  },
  {
   "cell_type": "markdown",
   "metadata": {},
   "source": [
    "Let's test it out! Run the following cell and check whether a new file `cifar.tar.gz` is created in the file explorer."
   ]
  },
  {
   "cell_type": "code",
   "execution_count": 24,
   "metadata": {
    "tags": []
   },
   "outputs": [],
   "source": [
    "extract_cifar_data(\"https://www.cs.toronto.edu/~kriz/cifar-100-python.tar.gz\")     "
   ]
  },
  {
   "cell_type": "markdown",
   "metadata": {},
   "source": [
    "### 2. Transform the data into a usable shape and format\n",
    "\n",
    "Clearly, distributing the data as a gzipped archive makes sense for the hosting service! It saves on bandwidth, storage, and it's a widely-used archive format. In fact, it's so widely used that the Python community ships a utility for working with them, `tarfile`, as part of its Standard Library. Execute the following cell to decompress your extracted dataset:"
   ]
  },
  {
   "cell_type": "code",
   "execution_count": 25,
   "metadata": {
    "tags": []
   },
   "outputs": [],
   "source": [
    "import tarfile\n",
    "\n",
    "with tarfile.open(\"cifar.tar.gz\", \"r:gz\") as tar:\n",
    "    tar.extractall()"
   ]
  },
  {
   "cell_type": "markdown",
   "metadata": {},
   "source": [
    "A new folder `cifar-100-python` should be created, containing `meta`, `test`, and `train` files. These files are `pickles` and the [CIFAR homepage](https://www.cs.toronto.edu/~kriz/cifar.html) provides a simple script that can be used to load them. We've adapted the script below for you to run:"
   ]
  },
  {
   "cell_type": "code",
   "execution_count": 26,
   "metadata": {
    "tags": []
   },
   "outputs": [],
   "source": [
    "import pickle\n",
    "# load file data into notebook dictionary\n",
    "\n",
    "with open(\"./cifar-100-python/meta\", \"rb\") as f:\n",
    "    dataset_meta = pickle.load(f, encoding='bytes')\n",
    "\n",
    "with open(\"./cifar-100-python/test\", \"rb\") as f:\n",
    "    dataset_test = pickle.load(f, encoding='bytes')\n",
    "\n",
    "with open(\"./cifar-100-python/train\", \"rb\") as f:\n",
    "    dataset_train = pickle.load(f, encoding='bytes')"
   ]
  },
  {
   "cell_type": "code",
   "execution_count": 27,
   "metadata": {
    "tags": []
   },
   "outputs": [
    {
     "data": {
      "text/plain": [
       "array([[255, 255, 255, ...,  10,  59,  79],\n",
       "       [255, 253, 253, ..., 253, 253, 255],\n",
       "       [250, 248, 247, ..., 194, 207, 228],\n",
       "       ...,\n",
       "       [248, 240, 236, ..., 180, 174, 205],\n",
       "       [156, 151, 151, ..., 114, 107, 126],\n",
       "       [ 31,  30,  31, ...,  72,  69,  67]], dtype=uint8)"
      ]
     },
     "execution_count": 27,
     "metadata": {},
     "output_type": "execute_result"
    }
   ],
   "source": [
    "# Feel free to explore the datasets\n",
    "\n",
    "dataset_train.keys()\n",
    "dataset_train[b'data']\n",
    "# dataset_meta[b'fine_label_names']"
   ]
  },
  {
   "cell_type": "markdown",
   "metadata": {},
   "source": [
    "As documented on the homepage, `b'data'` contains rows of 3073 unsigned integers, representing three channels (red, green, and blue) for one 32x32 pixel image per row."
   ]
  },
  {
   "cell_type": "code",
   "execution_count": 28,
   "metadata": {
    "tags": []
   },
   "outputs": [
    {
     "data": {
      "text/plain": [
       "3072"
      ]
     },
     "execution_count": 28,
     "metadata": {},
     "output_type": "execute_result"
    }
   ],
   "source": [
    "32*32*3"
   ]
  },
  {
   "cell_type": "markdown",
   "metadata": {},
   "source": [
    "For a simple gut-check, let's transform one of our images. Each 1024 items in a row is a channel (red, green, then blue). Each 32 items in the channel are a row in the 32x32 image. Using python, we can stack these channels into a 32x32x3 array, and save it as a PNG file:"
   ]
  },
  {
   "cell_type": "code",
   "execution_count": 29,
   "metadata": {
    "tags": []
   },
   "outputs": [],
   "source": [
    "import numpy as np\n",
    "\n",
    "# Each 1024 in a row is a channel (red, green, then blue)\n",
    "row = dataset_train[b'data'][0]\n",
    "red, green, blue = row[0:1024], row[1024:2048], row[2048:]\n",
    "\n",
    "# Each 32 items in the channel are a row in the 32x32 image\n",
    "red = red.reshape(32,32)\n",
    "green = green.reshape(32,32)\n",
    "blue = blue.reshape(32,32)\n",
    "\n",
    "# Combine the channels into a 32x32x3 image!\n",
    "combined = np.dstack((red,green,blue))"
   ]
  },
  {
   "cell_type": "markdown",
   "metadata": {},
   "source": [
    "For a more concise version, consider the following:"
   ]
  },
  {
   "cell_type": "code",
   "execution_count": 30,
   "metadata": {
    "tags": []
   },
   "outputs": [
    {
     "name": "stdout",
     "output_type": "stream",
     "text": [
      "(32, 32, 3)\n"
     ]
    }
   ],
   "source": [
    "# All in one:\n",
    "test_image = np.dstack((\n",
    "    row[0:1024].reshape(32,32),\n",
    "    row[1024:2048].reshape(32,32),\n",
    "    row[2048:].reshape(32,32)\n",
    "))\n",
    "\n",
    "print(test_image.shape)"
   ]
  },
  {
   "cell_type": "code",
   "execution_count": 31,
   "metadata": {
    "tags": []
   },
   "outputs": [
    {
     "data": {
      "image/png": "[encoded data removed]",
      "text/plain": [
       "<Figure size 640x480 with 1 Axes>"
      ]
     },
     "metadata": {},
     "output_type": "display_data"
    }
   ],
   "source": [
    "import matplotlib.pyplot as plt\n",
    "%matplotlib inline\n",
    "plt.imshow(test_image);"
   ]
  },
  {
   "cell_type": "markdown",
   "metadata": {},
   "source": [
    "Looks like a cow! Let's check the label. `dataset_meta` contains label names in order, and `dataset_train` has a list of labels for each row."
   ]
  },
  {
   "cell_type": "code",
   "execution_count": 32,
   "metadata": {
    "tags": []
   },
   "outputs": [
    {
     "data": {
      "text/plain": [
       "19"
      ]
     },
     "execution_count": 32,
     "metadata": {},
     "output_type": "execute_result"
    }
   ],
   "source": [
    "dataset_train[b'fine_labels'][0]"
   ]
  },
  {
   "cell_type": "markdown",
   "metadata": {},
   "source": [
    "Our image has a label of `19`, so let's see what the 19th item is in the list of label names."
   ]
  },
  {
   "cell_type": "code",
   "execution_count": 33,
   "metadata": {
    "tags": []
   },
   "outputs": [
    {
     "name": "stdout",
     "output_type": "stream",
     "text": [
      "b'cattle'\n"
     ]
    }
   ],
   "source": [
    "print(dataset_meta[b'fine_label_names'][19])"
   ]
  },
  {
   "cell_type": "markdown",
   "metadata": {},
   "source": [
    "Ok! 'cattle' sounds about right. By the way, using the previous two lines we can do:"
   ]
  },
  {
   "cell_type": "code",
   "execution_count": 34,
   "metadata": {
    "tags": []
   },
   "outputs": [
    {
     "name": "stdout",
     "output_type": "stream",
     "text": [
      "b'cattle'\n"
     ]
    }
   ],
   "source": [
    "n = 0\n",
    "print(dataset_meta[b'fine_label_names'][dataset_train[b'fine_labels'][n]])"
   ]
  },
  {
   "cell_type": "markdown",
   "metadata": {},
   "source": [
    "Now we know how to check labels, is there a way that we can also check file names? `dataset_train` also contains a `b'filenames'` key. Let's see what we have here:"
   ]
  },
  {
   "cell_type": "code",
   "execution_count": 35,
   "metadata": {
    "tags": []
   },
   "outputs": [
    {
     "name": "stdout",
     "output_type": "stream",
     "text": [
      "b'bos_taurus_s_000507.png'\n"
     ]
    }
   ],
   "source": [
    "print(dataset_train[b'filenames'][0])"
   ]
  },
  {
   "cell_type": "markdown",
   "metadata": {},
   "source": [
    "\"Taurus\" is the name of a subspecies of cattle, so this looks like a pretty reasonable filename. To save an image we can also do:"
   ]
  },
  {
   "cell_type": "code",
   "execution_count": 36,
   "metadata": {
    "tags": []
   },
   "outputs": [
    {
     "name": "stdout",
     "output_type": "stream",
     "text": [
      "<class 'numpy.ndarray'>\n"
     ]
    }
   ],
   "source": [
    "plt.imsave(\"file.png\", test_image)\n",
    "print(type(test_image))"
   ]
  },
  {
   "cell_type": "markdown",
   "metadata": {},
   "source": [
    "Your new PNG file should now appear in the file explorer -- go ahead and pop it open to see!\n",
    "\n",
    "Now that you know how to reshape the images, save them as files, and capture their filenames and labels, let's just capture all the bicycles and motorcycles and save them. Scones Unlimited can use a model that tells these apart to route delivery drivers automatically.\n",
    "\n",
    "In the following cell, identify the label numbers for Bicycles and Motorcycles:"
   ]
  },
  {
   "cell_type": "code",
   "execution_count": 37,
   "metadata": {
    "tags": []
   },
   "outputs": [
    {
     "name": "stdout",
     "output_type": "stream",
     "text": [
      "bicycle 8\n",
      "motorcycle 48\n"
     ]
    }
   ],
   "source": [
    "import pandas as pd\n",
    "    \n",
    "# Filter the dataset_train and dataset_meta objects to find the label numbers for Bicycle and Motorcycles\n",
    "i = 0\n",
    "\n",
    "for name in dataset_meta[b'fine_label_names']:\n",
    "    if name == b'bicycle':\n",
    "        print(\"bicycle\", i)\n",
    "    if name == b'motorcycle':\n",
    "        print(\"motorcycle\", i)\n",
    "    i = i + 1\n",
    "\n",
    "# bicycle = 8\n",
    "# motorcycle = 48"
   ]
  },
  {
   "cell_type": "markdown",
   "metadata": {},
   "source": [
    "Good job! We only need objects with label 8 and 48 -- this drastically simplifies our handling of the data! Below we construct a dataframe for you, and you can safely drop the rows that don't contain observations about bicycles and motorcycles. Fill in the missing lines below to drop all other rows:"
   ]
  },
  {
   "cell_type": "code",
   "execution_count": 38,
   "metadata": {
    "tags": []
   },
   "outputs": [],
   "source": [
    "#Construct the dataframe\n",
    "df_train = pd.DataFrame({\n",
    "    \"filenames\": dataset_train[b'filenames'],\n",
    "    \"labels\": dataset_train[b'fine_labels'],\n",
    "    \"row\": range(len(dataset_train[b'filenames'])),\n",
    "    # \"data\": dataset_train[b'data']\n",
    "})\n",
    "\n",
    "# Drop all rows from df_train where label is not 8 or 48\n",
    "df_train = df_train.query(\"labels == 8 | labels == 48\")\n",
    "\n",
    "# Decode df_train.filenames so they are regular strings\n",
    "df_train[\"filenames\"] = df_train[\"filenames\"].apply(\n",
    "    lambda x: x.decode(\"utf-8\")\n",
    ")\n",
    "\n",
    "\n",
    "df_test = pd.DataFrame({\n",
    "    \"filenames\": dataset_test[b'filenames'],\n",
    "    \"labels\": dataset_test[b'fine_labels'],\n",
    "    \"row\": range(len(dataset_test[b'filenames']))\n",
    "})\n",
    "\n",
    "# Drop all rows from df_test where label is not 8 or 48\n",
    "df_test = df_test.query(\"labels == 8 | labels == 48\")\n",
    "\n",
    "# Decode df_test.filenames so they are regular strings\n",
    "df_test[\"filenames\"] = df_test[\"filenames\"].apply(\n",
    "    lambda x: x.decode(\"utf-8\")\n",
    ")"
   ]
  },
  {
   "cell_type": "markdown",
   "metadata": {},
   "source": [
    "Now that the data is filtered for just our classes, we can save all our images."
   ]
  },
  {
   "cell_type": "code",
   "execution_count": null,
   "metadata": {},
   "outputs": [],
   "source": [
    "# STOP HERE"
   ]
  },
  {
   "cell_type": "code",
   "execution_count": null,
   "metadata": {},
   "outputs": [],
   "source": [
    "# STOP HERE"
   ]
  },
  {
   "cell_type": "code",
   "execution_count": null,
   "metadata": {},
   "outputs": [],
   "source": [
    "# STOP HERE"
   ]
  },
  {
   "cell_type": "code",
   "execution_count": 24,
   "metadata": {},
   "outputs": [
    {
     "name": "stdout",
     "output_type": "stream",
     "text": [
      "mkdir: cannot create directory ‘./train’: File exists\n",
      "mkdir: cannot create directory ‘./test’: File exists\n"
     ]
    }
   ],
   "source": [
    "!mkdir ./train\n",
    "!mkdir ./test"
   ]
  },
  {
   "cell_type": "markdown",
   "metadata": {},
   "source": [
    "In the previous sections we introduced you to several key snippets of code:\n",
    "\n",
    "1. Grabbing the image data:\n",
    "\n",
    "```python\n",
    "dataset_train[b'data'][0]\n",
    "```\n",
    "\n",
    "2. A simple idiom for stacking the image data into the right shape\n",
    "\n",
    "```python\n",
    "import numpy as np\n",
    "np.dstack((\n",
    "    row[0:1024].reshape(32,32),\n",
    "    row[1024:2048].reshape(32,32),\n",
    "    row[2048:].reshape(32,32)\n",
    "))\n",
    "```\n",
    "\n",
    "3. A simple `matplotlib` utility for saving images\n",
    "\n",
    "```python\n",
    "plt.imsave(path+row['filenames'], target)\n",
    "```\n",
    "\n",
    "Compose these together into a function that saves all the images into the `./test` and `./train` directories. Use the comments in the body of the `save_images` function below to guide your construction of the function:\n"
   ]
  },
  {
   "cell_type": "code",
   "execution_count": 25,
   "metadata": {},
   "outputs": [],
   "source": [
    "# print(df_train)\n",
    "# print(df_train['row'])\n",
    "# print(df_train.keys())"
   ]
  },
  {
   "cell_type": "code",
   "execution_count": 26,
   "metadata": {
    "tags": []
   },
   "outputs": [],
   "source": [
    "# # get image data -> get the data from dataset_train\n",
    "# dataset_train[b'data'][16]\n",
    "# # i is the row number of df_train -> get this by...\n",
    "# i = df_train['row'].iloc[0]\n",
    "# # get the file name\n",
    "# name = df_train['filenames'].iloc[0]\n",
    "\n",
    "# # print(df_train.iloc[0])\n",
    "# # print(dataset_train[b'data'][0])\n",
    "# # print(dataset_train.keys())\n",
    "# # print(df_train['row'].iloc[0])\n",
    "\n",
    "# row = dataset_train[b'data'][16]\n",
    "# # target = np.dstack((img[0:1024].reshape(32,32), img[1024:2048].reshape(32,32), img[2048:].reshape(32,32)))\n",
    "\n",
    "\n",
    "# # # All in one:\n",
    "# # target = np.dstack((\n",
    "# #     row[0:1024].reshape(32,32),\n",
    "# #     row[1024:2048].reshape(32,32),\n",
    "# #     row[2048:].reshape(32,32)\n",
    "# # ))\n",
    "# file = 'test' + '/'\n",
    "# print(file)\n",
    "\n",
    "# print(target)\n",
    "# print(\"BREAK\")\n",
    "\n",
    "# plt.imshow(target);\n",
    "\n",
    "# # plt.imsave('don't write test or train here now that those files are populated/'+\"file.png\", test_image)\n",
    "# print(test_image)\n",
    "\n",
    "\n",
    "\n",
    "# name = df_train['filenames'].iloc[0]\n",
    "# plt.imsave('bike_s_000682.png', target)\n",
    "\n",
    "# # target should be a <class 'numpy.ndarray'>\n",
    "\n",
    "    \n",
    "# # go to the index [row]"
   ]
  },
  {
   "cell_type": "code",
   "execution_count": 28,
   "metadata": {},
   "outputs": [
    {
     "data": {
      "text/plain": [
       "True"
      ]
     },
     "execution_count": 28,
     "metadata": {},
     "output_type": "execute_result"
    }
   ],
   "source": [
    "def save_images(copy_data, paste_data, path):\n",
    "# or use the apply function\n",
    "# iter rows vs iter tuples\n",
    "    for index in range(len(paste_data)):\n",
    "    #Grab the image data in row-major form\n",
    "        row = paste_data['row'].iloc[index]\n",
    "        img = copy_data[b'data'][row]\n",
    "    \n",
    "    # Consolidated stacking/reshaping from earlier\n",
    "        target = np.dstack((img[0:1024].reshape(32,32), img[1024:2048].reshape(32,32), img[2048:].reshape(32,32)))\n",
    "        \n",
    "    # Save the image\n",
    "        name = paste_data['filenames'].iloc[index]\n",
    "        plt.imsave(path+'/'+name, target)\n",
    "    \n",
    "    # Return any signal data you want for debugging\n",
    "    return True\n",
    "\n",
    "## TODO: save ALL images using the save_images function\n",
    "save_images(dataset_train, df_train, \"train\")\n",
    "save_images(dataset_test, df_test, \"test\")"
   ]
  },
  {
   "cell_type": "markdown",
   "metadata": {},
   "source": [
    "### 3. Load the data\n",
    "\n",
    "Now we can load the data into S3.\n",
    "\n",
    "Using the sagemaker SDK grab the current region, execution role, and bucket."
   ]
  },
  {
   "cell_type": "code",
   "execution_count": 39,
   "metadata": {},
   "outputs": [
    {
     "name": "stdout",
     "output_type": "stream",
     "text": [
      "Default Bucket: sagemaker-us-east-1-388656969977\n",
      "AWS Region: us-east-1\n",
      "RoleArn: arn:aws:iam::388656969977:role/service-role/AmazonSageMaker-ExecutionRole-20230714T085295\n"
     ]
    }
   ],
   "source": [
    "import sagemaker\n",
    "from sagemaker import get_execution_role\n",
    "\n",
    "current_session = sagemaker.Session()\n",
    "\n",
    "bucket = current_session.default_bucket()\n",
    "print(\"Default Bucket: {}\".format(bucket))\n",
    "\n",
    "region = 'us-east-1'\n",
    "print(\"AWS Region: {}\".format(region))\n",
    "\n",
    "role = get_execution_role()\n",
    "print(\"RoleArn: {}\".format(role))"
   ]
  },
  {
   "cell_type": "markdown",
   "metadata": {},
   "source": [
    "With this data we can easily sync your data up into S3!"
   ]
  },
  {
   "cell_type": "code",
   "execution_count": 40,
   "metadata": {},
   "outputs": [],
   "source": [
    "import os\n",
    "\n",
    "os.environ[\"DEFAULT_S3_BUCKET\"] = bucket\n",
    "!aws s3 sync ./train s3://${DEFAULT_S3_BUCKET}/train/\n",
    "!aws s3 sync ./test s3://${DEFAULT_S3_BUCKET}/test/"
   ]
  },
  {
   "cell_type": "code",
   "execution_count": 41,
   "metadata": {
    "tags": []
   },
   "outputs": [],
   "source": [
    "# where could I find this bucket? don't see it in s3"
   ]
  },
  {
   "cell_type": "markdown",
   "metadata": {},
   "source": [
    "And that's it! You can check the bucket and verify that the items were uploaded.\n",
    "\n",
    "## Model Training\n",
    "\n",
    "For Image Classification, Sagemaker [also expects metadata](https://docs.aws.amazon.com/sagemaker/latest/dg/image-classification.html) e.g. in the form of TSV files with labels and filepaths. We can generate these using our Pandas DataFrames from earlier:"
   ]
  },
  {
   "cell_type": "code",
   "execution_count": 42,
   "metadata": {
    "tags": []
   },
   "outputs": [
    {
     "name": "stdout",
     "output_type": "stream",
     "text": [
      "Default Bucket: sagemaker-us-east-1-388656969977\n",
      "AWS Region: us-east-1\n",
      "RoleArn: arn:aws:iam::388656969977:role/service-role/AmazonSageMaker-ExecutionRole-20230714T085295\n"
     ]
    }
   ],
   "source": [
    "import sagemaker\n",
    "from sagemaker import get_execution_role\n",
    "\n",
    "current_session = sagemaker.Session()\n",
    "\n",
    "bucket = current_session.default_bucket()\n",
    "print(\"Default Bucket: {}\".format(bucket))\n",
    "\n",
    "region = 'us-east-1'\n",
    "print(\"AWS Region: {}\".format(region))\n",
    "\n",
    "role = get_execution_role()\n",
    "print(\"RoleArn: {}\".format(role))"
   ]
  },
  {
   "cell_type": "code",
   "execution_count": 43,
   "metadata": {},
   "outputs": [],
   "source": [
    "def to_metadata_file(df, prefix):\n",
    "    df[\"s3_path\"] = df[\"filenames\"]\n",
    "    df[\"labels\"] = df[\"labels\"].apply(lambda x: 0 if x==8 else 1)\n",
    "    return df[[\"row\", \"labels\", \"s3_path\"]].to_csv(\n",
    "        f\"{prefix}.lst\", sep=\"\\t\", index=False, header=False\n",
    "    )\n",
    "    \n",
    "to_metadata_file(df_train.copy(), \"train\")\n",
    "to_metadata_file(df_test.copy(), \"test\")"
   ]
  },
  {
   "cell_type": "markdown",
   "metadata": {},
   "source": [
    "We can also upload our manifest files:"
   ]
  },
  {
   "cell_type": "code",
   "execution_count": 44,
   "metadata": {},
   "outputs": [],
   "source": [
    "import boto3\n",
    "\n",
    "# Upload files\n",
    "boto3.Session().resource('s3').Bucket(\n",
    "    bucket).Object('train.lst').upload_file('./train.lst')\n",
    "boto3.Session().resource('s3').Bucket(\n",
    "    bucket).Object('test.lst').upload_file('./test.lst')"
   ]
  },
  {
   "cell_type": "markdown",
   "metadata": {},
   "source": [
    "Using the `bucket` and `region` info we can get the latest prebuilt container to run our training job, and define an output location on our s3 bucket for the model. Use the `image_uris` function from the SageMaker SDK to retrieve the latest `image-classification` image below:"
   ]
  },
  {
   "cell_type": "code",
   "execution_count": 45,
   "metadata": {},
   "outputs": [],
   "source": [
    "# Use the image_uris function to retrieve the latest 'image-classification' image \n",
    "algo_image = sagemaker.image_uris.retrieve('image-classification', region)\n",
    "s3_output_location = f\"s3://{bucket}/models/image_model\""
   ]
  },
  {
   "cell_type": "markdown",
   "metadata": {},
   "source": [
    "We're ready to create an estimator! Create an estimator `img_classifier_model` that uses one instance of `ml.p3.2xlarge`. Ensure that y ou use the output location we defined above - we'll be referring to that later!"
   ]
  },
  {
   "cell_type": "code",
   "execution_count": 25,
   "metadata": {},
   "outputs": [],
   "source": [
    "img_classifier_model=sagemaker.estimator.Estimator(\n",
    "    ## Define your estimator options    \n",
    "    image_uri=algo_image,\n",
    "    role=role,\n",
    "    instance_count=1,\n",
    "    instance_type='ml.p3.2xlarge',\n",
    "    sagemaker_session=current_session,\n",
    "    output_path=s3_output_location\n",
    ")"
   ]
  },
  {
   "cell_type": "markdown",
   "metadata": {},
   "source": [
    "We can also set a few key hyperparameters and define the inputs for our model:"
   ]
  },
  {
   "cell_type": "code",
   "execution_count": 27,
   "metadata": {},
   "outputs": [],
   "source": [
    "img_classifier_model.set_hyperparameters(\n",
    "    image_shape='3,32,32',\n",
    "    num_classes=2,\n",
    "    num_training_samples=1000\n",
    ")"
   ]
  },
  {
   "cell_type": "markdown",
   "metadata": {},
   "source": [
    "The `image-classification` image uses four input channels with very specific input parameters. For convenience, we've provided them below:"
   ]
  },
  {
   "cell_type": "code",
   "execution_count": 28,
   "metadata": {},
   "outputs": [],
   "source": [
    "from sagemaker.debugger import Rule, rule_configs\n",
    "from sagemaker.session import TrainingInput\n",
    "model_inputs = {\n",
    "        \"train\": sagemaker.inputs.TrainingInput(\n",
    "            s3_data=f\"s3://{bucket}/train/\",\n",
    "            content_type=\"application/x-image\"\n",
    "        ),\n",
    "        \"validation\": sagemaker.inputs.TrainingInput(\n",
    "            s3_data=f\"s3://{bucket}/test/\",\n",
    "            content_type=\"application/x-image\"\n",
    "        ),\n",
    "        \"train_lst\": sagemaker.inputs.TrainingInput(\n",
    "            s3_data=f\"s3://{bucket}/train.lst\",\n",
    "            content_type=\"application/x-image\"\n",
    "        ),\n",
    "        \"validation_lst\": sagemaker.inputs.TrainingInput(\n",
    "            s3_data=f\"s3://{bucket}/test.lst\",\n",
    "            content_type=\"application/x-image\"\n",
    "        )\n",
    "}"
   ]
  },
  {
   "cell_type": "markdown",
   "metadata": {},
   "source": [
    "Great, now we can train the model using the model_inputs. In the cell below, call the `fit` method on our model,:"
   ]
  },
  {
   "cell_type": "code",
   "execution_count": 29,
   "metadata": {},
   "outputs": [
    {
     "name": "stderr",
     "output_type": "stream",
     "text": [
      "INFO:sagemaker:Creating training-job with name: image-classification-2023-07-19-13-11-59-650\n"
     ]
    },
    {
     "name": "stdout",
     "output_type": "stream",
     "text": [
      "2023-07-19 13:11:59 Starting - Starting the training job...\n",
      "2023-07-19 13:12:26 Starting - Preparing the instances for training.........\n",
      "2023-07-19 13:14:00 Downloading - Downloading input data\n",
      "2023-07-19 13:14:00 Training - Downloading the training image..................\n",
      "2023-07-19 13:17:01 Training - Training image download completed. Training in progress.....\u001b[34mDocker entrypoint called with argument(s): train\u001b[0m\n",
      "\u001b[34mRunning default environment configuration script\u001b[0m\n",
      "\u001b[34mNvidia gpu devices, drivers and cuda toolkit versions (only available on hosts with GPU):\u001b[0m\n",
      "\u001b[34mWed Jul 19 13:17:26 2023       \u001b[0m\n",
      "\u001b[34m+-----------------------------------------------------------------------------+\u001b[0m\n",
      "\u001b[34m| NVIDIA-SMI 525.85.12    Driver Version: 525.85.12    CUDA Version: 12.0     |\u001b[0m\n",
      "\u001b[34m|-------------------------------+----------------------+----------------------+\u001b[0m\n",
      "\u001b[34m| GPU  Name        Persistence-M| Bus-Id        Disp.A | Volatile Uncorr. ECC |\u001b[0m\n",
      "\u001b[34m| Fan  Temp  Perf  Pwr:Usage/Cap|         Memory-Usage | GPU-Util  Compute M. |\u001b[0m\n",
      "\u001b[34m|                               |                      |               MIG M. |\u001b[0m\n",
      "\u001b[34m|===============================+======================+======================|\u001b[0m\n",
      "\u001b[34m|   0  Tesla V100-SXM2...  On   | 00000000:00:1E.0 Off |                    0 |\u001b[0m\n",
      "\u001b[34m| N/A   32C    P0    24W / 300W |      0MiB / 16384MiB |      0%      Default |\u001b[0m\n",
      "\u001b[34m|                               |                      |                  N/A |\u001b[0m\n",
      "\u001b[34m+-------------------------------+----------------------+----------------------+\n",
      "                                                                               \u001b[0m\n",
      "\u001b[34m+-----------------------------------------------------------------------------+\u001b[0m\n",
      "\u001b[34m| Processes:                                                                  |\u001b[0m\n",
      "\u001b[34m|  GPU   GI   CI        PID   Type   Process name                  GPU Memory |\u001b[0m\n",
      "\u001b[34m|        ID   ID                                                   Usage      |\u001b[0m\n",
      "\u001b[34m|=============================================================================|\u001b[0m\n",
      "\u001b[34m|  No running processes found                                                 |\u001b[0m\n",
      "\u001b[34m+-----------------------------------------------------------------------------+\u001b[0m\n",
      "\u001b[34mChecking for nvidia driver and cuda compatibility.\u001b[0m\n",
      "\u001b[34mCUDA Compatibility driver provided.\u001b[0m\n",
      "\u001b[34mProceeding with compatibility check between driver, cuda-toolkit and cuda-compat.\u001b[0m\n",
      "\u001b[34mDetected cuda-toolkit version: 11.1.\u001b[0m\n",
      "\u001b[34mDetected cuda-compat version: 455.32.00.\u001b[0m\n",
      "\u001b[34mDetected Nvidia driver version: 525.85.12.\u001b[0m\n",
      "\u001b[34mNvidia driver compatible with cuda-toolkit. Disabling cuda-compat.\u001b[0m\n",
      "\u001b[34m[07/19/2023 13:17:30 INFO 140511349405504] Reading default configuration from /opt/amazon/lib/python3.7/site-packages/image_classification/default-input.json: {'use_pretrained_model': 0, 'num_layers': 152, 'epochs': 30, 'learning_rate': 0.1, 'lr_scheduler_factor': 0.1, 'optimizer': 'sgd', 'momentum': 0, 'weight_decay': 0.0001, 'beta_1': 0.9, 'beta_2': 0.999, 'eps': 1e-08, 'gamma': 0.9, 'mini_batch_size': 32, 'image_shape': '3,224,224', 'precision_dtype': 'float32'}\u001b[0m\n",
      "\u001b[34m[07/19/2023 13:17:30 INFO 140511349405504] Merging with provided configuration from /opt/ml/input/config/hyperparameters.json: {'image_shape': '3,32,32', 'num_classes': '2', 'num_training_samples': '1000'}\u001b[0m\n",
      "\u001b[34m[07/19/2023 13:17:30 INFO 140511349405504] Final configuration: {'use_pretrained_model': 0, 'num_layers': 152, 'epochs': 30, 'learning_rate': 0.1, 'lr_scheduler_factor': 0.1, 'optimizer': 'sgd', 'momentum': 0, 'weight_decay': 0.0001, 'beta_1': 0.9, 'beta_2': 0.999, 'eps': 1e-08, 'gamma': 0.9, 'mini_batch_size': 32, 'image_shape': '3,32,32', 'precision_dtype': 'float32', 'num_classes': '2', 'num_training_samples': '1000'}\u001b[0m\n",
      "\u001b[34m[07/19/2023 13:17:30 INFO 140511349405504] Searching for .lst files in /opt/ml/input/data/train_lst.\u001b[0m\n",
      "\u001b[34m[07/19/2023 13:17:30 INFO 140511349405504] Creating record files for train.lst\u001b[0m\n",
      "\u001b[34m[07/19/2023 13:17:30 INFO 140511349405504] Done creating record files...\u001b[0m\n",
      "\u001b[34m[07/19/2023 13:17:30 INFO 140511349405504] Searching for .lst files in /opt/ml/input/data/validation_lst.\u001b[0m\n",
      "\u001b[34m[07/19/2023 13:17:30 INFO 140511349405504] Creating record files for test.lst\u001b[0m\n",
      "\u001b[34m[07/19/2023 13:17:30 INFO 140511349405504] Done creating record files...\u001b[0m\n",
      "\u001b[34m[07/19/2023 13:17:30 INFO 140511349405504] use_pretrained_model: 0\u001b[0m\n",
      "\u001b[34m[07/19/2023 13:17:30 INFO 140511349405504] multi_label: 0\u001b[0m\n",
      "\u001b[34m[07/19/2023 13:17:30 INFO 140511349405504] Performing random weight initialization\u001b[0m\n",
      "\u001b[34m[07/19/2023 13:17:30 INFO 140511349405504] ---- Parameters ----\u001b[0m\n",
      "\u001b[34m[07/19/2023 13:17:30 INFO 140511349405504] num_layers: 152\u001b[0m\n",
      "\u001b[34m[07/19/2023 13:17:30 INFO 140511349405504] data type: <class 'numpy.float32'>\u001b[0m\n",
      "\u001b[34m[07/19/2023 13:17:30 INFO 140511349405504] epochs: 30\u001b[0m\n",
      "\u001b[34m[07/19/2023 13:17:30 INFO 140511349405504] optimizer: sgd\u001b[0m\n",
      "\u001b[34m[07/19/2023 13:17:30 INFO 140511349405504] momentum: 0.9\u001b[0m\n",
      "\u001b[34m[07/19/2023 13:17:30 INFO 140511349405504] weight_decay: 0.0001\u001b[0m\n",
      "\u001b[34m[07/19/2023 13:17:30 INFO 140511349405504] learning_rate: 0.1\u001b[0m\n",
      "\u001b[34m[07/19/2023 13:17:30 INFO 140511349405504] num_training_samples: 1000\u001b[0m\n",
      "\u001b[34m[07/19/2023 13:17:30 INFO 140511349405504] mini_batch_size: 32\u001b[0m\n",
      "\u001b[34m[07/19/2023 13:17:30 INFO 140511349405504] image_shape: 3,32,32\u001b[0m\n",
      "\u001b[34m[07/19/2023 13:17:30 INFO 140511349405504] num_classes: 2\u001b[0m\n",
      "\u001b[34m[07/19/2023 13:17:30 INFO 140511349405504] augmentation_type: None\u001b[0m\n",
      "\u001b[34m[07/19/2023 13:17:30 INFO 140511349405504] kv_store: device\u001b[0m\n",
      "\u001b[34m[07/19/2023 13:17:30 INFO 140511349405504] checkpoint_frequency not set, will store the best model\u001b[0m\n",
      "\u001b[34m[07/19/2023 13:17:30 INFO 140511349405504] --------------------\u001b[0m\n",
      "\u001b[34m[07/19/2023 13:17:30 INFO 140511349405504] Setting number of threads: 7\u001b[0m\n",
      "\u001b[34m[13:17:34] /opt/brazil-pkg-cache/packages/AIAlgorithmsMXNet/AIAlgorithmsMXNet-1.4.x_ecl_Cuda_11.1.x.205.0/AL2_x86_64/generic-flavor/src/src/operator/nn/./cudnn/./cudnn_algoreg-inl.h:97: Running performance tests to find the best convolution algorithm, this can take a while... (setting env variable MXNET_CUDNN_AUTOTUNE_DEFAULT to 0 to disable)\u001b[0m\n",
      "\u001b[34m[07/19/2023 13:17:39 INFO 140511349405504] Epoch[0] Batch [20]#011Speed: 125.118 samples/sec#011accuracy=0.526786\u001b[0m\n",
      "\u001b[34m[07/19/2023 13:17:41 INFO 140511349405504] Epoch[0] Train-accuracy=0.539315\u001b[0m\n",
      "\u001b[34m[07/19/2023 13:17:41 INFO 140511349405504] Epoch[0] Time cost=6.787\u001b[0m\n",
      "\u001b[34m[07/19/2023 13:17:41 INFO 140511349405504] Epoch[0] Validation-accuracy=0.500000\u001b[0m\n",
      "\u001b[34m[07/19/2023 13:17:42 INFO 140511349405504] Storing the best model with validation accuracy: 0.500000\u001b[0m\n",
      "\u001b[34m[07/19/2023 13:17:42 INFO 140511349405504] Saved checkpoint to \"/opt/ml/model/image-classification-0001.params\"\u001b[0m\n",
      "\u001b[34m[07/19/2023 13:17:45 INFO 140511349405504] Epoch[1] Batch [20]#011Speed: 184.185 samples/sec#011accuracy=0.694940\u001b[0m\n",
      "\u001b[34m[07/19/2023 13:17:47 INFO 140511349405504] Epoch[1] Train-accuracy=0.711694\u001b[0m\n",
      "\u001b[34m[07/19/2023 13:17:47 INFO 140511349405504] Epoch[1] Time cost=5.163\u001b[0m\n",
      "\u001b[34m[07/19/2023 13:17:48 INFO 140511349405504] Epoch[1] Validation-accuracy=0.479167\u001b[0m\n",
      "\u001b[34m[07/19/2023 13:17:51 INFO 140511349405504] Epoch[2] Batch [20]#011Speed: 194.155 samples/sec#011accuracy=0.732143\u001b[0m\n",
      "\u001b[34m[07/19/2023 13:17:53 INFO 140511349405504] Epoch[2] Train-accuracy=0.729839\u001b[0m\n",
      "\u001b[34m[07/19/2023 13:17:53 INFO 140511349405504] Epoch[2] Time cost=4.907\u001b[0m\n",
      "\u001b[34m[07/19/2023 13:17:54 INFO 140511349405504] Epoch[2] Validation-accuracy=0.458333\u001b[0m\n",
      "\u001b[34m[07/19/2023 13:17:57 INFO 140511349405504] Epoch[3] Batch [20]#011Speed: 196.379 samples/sec#011accuracy=0.727679\u001b[0m\n",
      "\u001b[34m[07/19/2023 13:17:59 INFO 140511349405504] Epoch[3] Train-accuracy=0.765121\u001b[0m\n",
      "\u001b[34m[07/19/2023 13:17:59 INFO 140511349405504] Epoch[3] Time cost=4.892\u001b[0m\n",
      "\u001b[34m[07/19/2023 13:17:59 INFO 140511349405504] Epoch[3] Validation-accuracy=0.504464\u001b[0m\n",
      "\u001b[34m[07/19/2023 13:18:00 INFO 140511349405504] Storing the best model with validation accuracy: 0.504464\u001b[0m\n",
      "\u001b[34m[07/19/2023 13:18:00 INFO 140511349405504] Saved checkpoint to \"/opt/ml/model/image-classification-0004.params\"\u001b[0m\n",
      "\u001b[34m[07/19/2023 13:18:03 INFO 140511349405504] Epoch[4] Batch [20]#011Speed: 190.432 samples/sec#011accuracy=0.770833\u001b[0m\n",
      "\u001b[34m[07/19/2023 13:18:05 INFO 140511349405504] Epoch[4] Train-accuracy=0.759073\u001b[0m\n",
      "\u001b[34m[07/19/2023 13:18:05 INFO 140511349405504] Epoch[4] Time cost=4.960\u001b[0m\n",
      "\u001b[34m[07/19/2023 13:18:06 INFO 140511349405504] Epoch[4] Validation-accuracy=0.552083\u001b[0m\n",
      "\u001b[34m[07/19/2023 13:18:06 INFO 140511349405504] Storing the best model with validation accuracy: 0.552083\u001b[0m\n",
      "\u001b[34m[07/19/2023 13:18:06 INFO 140511349405504] Saved checkpoint to \"/opt/ml/model/image-classification-0005.params\"\u001b[0m\n",
      "\u001b[34m[07/19/2023 13:18:10 INFO 140511349405504] Epoch[5] Batch [20]#011Speed: 195.600 samples/sec#011accuracy=0.813988\u001b[0m\n",
      "\u001b[34m[07/19/2023 13:18:11 INFO 140511349405504] Epoch[5] Train-accuracy=0.792339\u001b[0m\n",
      "\u001b[34m[07/19/2023 13:18:11 INFO 140511349405504] Epoch[5] Time cost=4.889\u001b[0m\n",
      "\u001b[34m[07/19/2023 13:18:12 INFO 140511349405504] Epoch[5] Validation-accuracy=0.520833\u001b[0m\n",
      "\u001b[34m[07/19/2023 13:18:15 INFO 140511349405504] Epoch[6] Batch [20]#011Speed: 195.529 samples/sec#011accuracy=0.836310\u001b[0m\n",
      "\u001b[34m[07/19/2023 13:18:17 INFO 140511349405504] Epoch[6] Train-accuracy=0.832661\u001b[0m\n",
      "\u001b[34m[07/19/2023 13:18:17 INFO 140511349405504] Epoch[6] Time cost=4.870\u001b[0m\n",
      "\u001b[34m[07/19/2023 13:18:17 INFO 140511349405504] Epoch[6] Validation-accuracy=0.557292\u001b[0m\n",
      "\u001b[34m[07/19/2023 13:18:18 INFO 140511349405504] Storing the best model with validation accuracy: 0.557292\u001b[0m\n",
      "\u001b[34m[07/19/2023 13:18:18 INFO 140511349405504] Saved checkpoint to \"/opt/ml/model/image-classification-0007.params\"\u001b[0m\n",
      "\u001b[34m[07/19/2023 13:18:21 INFO 140511349405504] Epoch[7] Batch [20]#011Speed: 194.424 samples/sec#011accuracy=0.833333\u001b[0m\n",
      "\u001b[34m[07/19/2023 13:18:23 INFO 140511349405504] Epoch[7] Train-accuracy=0.836694\u001b[0m\n",
      "\u001b[34m[07/19/2023 13:18:23 INFO 140511349405504] Epoch[7] Time cost=4.903\u001b[0m\n",
      "\u001b[34m[07/19/2023 13:18:24 INFO 140511349405504] Epoch[7] Validation-accuracy=0.571429\u001b[0m\n",
      "\u001b[34m[07/19/2023 13:18:24 INFO 140511349405504] Storing the best model with validation accuracy: 0.571429\u001b[0m\n",
      "\u001b[34m[07/19/2023 13:18:24 INFO 140511349405504] Saved checkpoint to \"/opt/ml/model/image-classification-0008.params\"\u001b[0m\n",
      "\u001b[34m[07/19/2023 13:18:28 INFO 140511349405504] Epoch[8] Batch [20]#011Speed: 195.259 samples/sec#011accuracy=0.858631\u001b[0m\n",
      "\u001b[34m[07/19/2023 13:18:29 INFO 140511349405504] Epoch[8] Train-accuracy=0.858871\u001b[0m\n",
      "\u001b[34m[07/19/2023 13:18:29 INFO 140511349405504] Epoch[8] Time cost=4.886\u001b[0m\n",
      "\u001b[34m[07/19/2023 13:18:30 INFO 140511349405504] Epoch[8] Validation-accuracy=0.557292\u001b[0m\n",
      "\u001b[34m[07/19/2023 13:18:33 INFO 140511349405504] Epoch[9] Batch [20]#011Speed: 196.948 samples/sec#011accuracy=0.836310\u001b[0m\n",
      "\u001b[34m[07/19/2023 13:18:35 INFO 140511349405504] Epoch[9] Train-accuracy=0.844758\u001b[0m\n",
      "\u001b[34m[07/19/2023 13:18:35 INFO 140511349405504] Epoch[9] Time cost=4.861\u001b[0m\n",
      "\u001b[34m[07/19/2023 13:18:35 INFO 140511349405504] Epoch[9] Validation-accuracy=0.520833\u001b[0m\n",
      "\u001b[34m[07/19/2023 13:18:39 INFO 140511349405504] Epoch[10] Batch [20]#011Speed: 194.947 samples/sec#011accuracy=0.880952\u001b[0m\n",
      "\u001b[34m[07/19/2023 13:18:41 INFO 140511349405504] Epoch[10] Train-accuracy=0.876008\u001b[0m\n",
      "\u001b[34m[07/19/2023 13:18:41 INFO 140511349405504] Epoch[10] Time cost=4.895\u001b[0m\n",
      "\u001b[34m[07/19/2023 13:18:41 INFO 140511349405504] Epoch[10] Validation-accuracy=0.505208\u001b[0m\n",
      "\u001b[34m[07/19/2023 13:18:45 INFO 140511349405504] Epoch[11] Batch [20]#011Speed: 195.587 samples/sec#011accuracy=0.873512\u001b[0m\n",
      "\u001b[34m[07/19/2023 13:18:47 INFO 140511349405504] Epoch[11] Train-accuracy=0.876008\u001b[0m\n",
      "\u001b[34m[07/19/2023 13:18:47 INFO 140511349405504] Epoch[11] Time cost=4.872\u001b[0m\n",
      "\u001b[34m[07/19/2023 13:18:47 INFO 140511349405504] Epoch[11] Validation-accuracy=0.553571\u001b[0m\n",
      "\u001b[34m[07/19/2023 13:18:51 INFO 140511349405504] Epoch[12] Batch [20]#011Speed: 195.201 samples/sec#011accuracy=0.885417\u001b[0m\n",
      "\u001b[34m[07/19/2023 13:18:53 INFO 140511349405504] Epoch[12] Train-accuracy=0.875000\u001b[0m\n",
      "\u001b[34m[07/19/2023 13:18:53 INFO 140511349405504] Epoch[12] Time cost=4.867\u001b[0m\n",
      "\u001b[34m[07/19/2023 13:18:53 INFO 140511349405504] Epoch[12] Validation-accuracy=0.562500\u001b[0m\n",
      "\u001b[34m[07/19/2023 13:18:57 INFO 140511349405504] Epoch[13] Batch [20]#011Speed: 196.415 samples/sec#011accuracy=0.897321\u001b[0m\n",
      "\u001b[34m[07/19/2023 13:18:58 INFO 140511349405504] Epoch[13] Train-accuracy=0.906250\u001b[0m\n",
      "\u001b[34m[07/19/2023 13:18:58 INFO 140511349405504] Epoch[13] Time cost=4.871\u001b[0m\n",
      "\u001b[34m[07/19/2023 13:18:59 INFO 140511349405504] Epoch[13] Validation-accuracy=0.541667\u001b[0m\n",
      "\u001b[34m[07/19/2023 13:19:03 INFO 140511349405504] Epoch[14] Batch [20]#011Speed: 191.267 samples/sec#011accuracy=0.913690\u001b[0m\n",
      "\u001b[34m[07/19/2023 13:19:04 INFO 140511349405504] Epoch[14] Train-accuracy=0.899194\u001b[0m\n",
      "\u001b[34m[07/19/2023 13:19:04 INFO 140511349405504] Epoch[14] Time cost=4.959\u001b[0m\n",
      "\u001b[34m[07/19/2023 13:19:05 INFO 140511349405504] Epoch[14] Validation-accuracy=0.479167\u001b[0m\n",
      "\u001b[34m[07/19/2023 13:19:08 INFO 140511349405504] Epoch[15] Batch [20]#011Speed: 197.149 samples/sec#011accuracy=0.904762\u001b[0m\n",
      "\u001b[34m[07/19/2023 13:19:10 INFO 140511349405504] Epoch[15] Train-accuracy=0.906250\u001b[0m\n",
      "\u001b[34m[07/19/2023 13:19:10 INFO 140511349405504] Epoch[15] Time cost=4.856\u001b[0m\n",
      "\u001b[34m[07/19/2023 13:19:11 INFO 140511349405504] Epoch[15] Validation-accuracy=0.558036\u001b[0m\n",
      "\u001b[34m[07/19/2023 13:19:14 INFO 140511349405504] Epoch[16] Batch [20]#011Speed: 194.899 samples/sec#011accuracy=0.950893\u001b[0m\n",
      "\u001b[34m[07/19/2023 13:19:16 INFO 140511349405504] Epoch[16] Train-accuracy=0.938508\u001b[0m\n",
      "\u001b[34m[07/19/2023 13:19:16 INFO 140511349405504] Epoch[16] Time cost=4.877\u001b[0m\n",
      "\u001b[34m[07/19/2023 13:19:16 INFO 140511349405504] Epoch[16] Validation-accuracy=0.510417\u001b[0m\n",
      "\u001b[34m[07/19/2023 13:19:20 INFO 140511349405504] Epoch[17] Batch [20]#011Speed: 196.729 samples/sec#011accuracy=0.922619\u001b[0m\n",
      "\u001b[34m[07/19/2023 13:19:22 INFO 140511349405504] Epoch[17] Train-accuracy=0.921371\u001b[0m\n",
      "\u001b[34m[07/19/2023 13:19:22 INFO 140511349405504] Epoch[17] Time cost=4.871\u001b[0m\n",
      "\u001b[34m[07/19/2023 13:19:22 INFO 140511349405504] Epoch[17] Validation-accuracy=0.557292\u001b[0m\n",
      "\u001b[34m[07/19/2023 13:19:26 INFO 140511349405504] Epoch[18] Batch [20]#011Speed: 197.667 samples/sec#011accuracy=0.910714\u001b[0m\n",
      "\u001b[34m[07/19/2023 13:19:28 INFO 140511349405504] Epoch[18] Train-accuracy=0.917339\u001b[0m\n",
      "\u001b[34m[07/19/2023 13:19:28 INFO 140511349405504] Epoch[18] Time cost=4.836\u001b[0m\n",
      "\u001b[34m[07/19/2023 13:19:28 INFO 140511349405504] Epoch[18] Validation-accuracy=0.531250\u001b[0m\n",
      "\u001b[34m[07/19/2023 13:19:32 INFO 140511349405504] Epoch[19] Batch [20]#011Speed: 196.079 samples/sec#011accuracy=0.927083\u001b[0m\n",
      "\u001b[34m[07/19/2023 13:19:33 INFO 140511349405504] Epoch[19] Train-accuracy=0.935484\u001b[0m\n",
      "\u001b[34m[07/19/2023 13:19:33 INFO 140511349405504] Epoch[19] Time cost=4.873\u001b[0m\n",
      "\u001b[34m[07/19/2023 13:19:34 INFO 140511349405504] Epoch[19] Validation-accuracy=0.575893\u001b[0m\n",
      "\u001b[34m[07/19/2023 13:19:34 INFO 140511349405504] Storing the best model with validation accuracy: 0.575893\u001b[0m\n",
      "\u001b[34m[07/19/2023 13:19:35 INFO 140511349405504] Saved checkpoint to \"/opt/ml/model/image-classification-0020.params\"\u001b[0m\n",
      "\u001b[34m[07/19/2023 13:19:38 INFO 140511349405504] Epoch[20] Batch [20]#011Speed: 194.373 samples/sec#011accuracy=0.971726\u001b[0m\n",
      "\u001b[34m[07/19/2023 13:19:40 INFO 140511349405504] Epoch[20] Train-accuracy=0.960685\u001b[0m\n",
      "\u001b[34m[07/19/2023 13:19:40 INFO 140511349405504] Epoch[20] Time cost=4.887\u001b[0m\n",
      "\u001b[34m[07/19/2023 13:19:40 INFO 140511349405504] Epoch[20] Validation-accuracy=0.557292\u001b[0m\n",
      "\u001b[34m[07/19/2023 13:19:44 INFO 140511349405504] Epoch[21] Batch [20]#011Speed: 195.751 samples/sec#011accuracy=0.953869\u001b[0m\n",
      "\u001b[34m[07/19/2023 13:19:45 INFO 140511349405504] Epoch[21] Train-accuracy=0.946573\u001b[0m\n",
      "\u001b[34m[07/19/2023 13:19:45 INFO 140511349405504] Epoch[21] Time cost=4.858\u001b[0m\n",
      "\u001b[34m[07/19/2023 13:19:46 INFO 140511349405504] Epoch[21] Validation-accuracy=0.494792\u001b[0m\n",
      "\u001b[34m[07/19/2023 13:19:50 INFO 140511349405504] Epoch[22] Batch [20]#011Speed: 197.736 samples/sec#011accuracy=0.955357\u001b[0m\n",
      "\u001b[34m[07/19/2023 13:19:51 INFO 140511349405504] Epoch[22] Train-accuracy=0.949597\u001b[0m\n",
      "\u001b[34m[07/19/2023 13:19:51 INFO 140511349405504] Epoch[22] Time cost=4.834\u001b[0m\n",
      "\u001b[34m[07/19/2023 13:19:52 INFO 140511349405504] Epoch[22] Validation-accuracy=0.520833\u001b[0m\n",
      "\u001b[34m[07/19/2023 13:19:55 INFO 140511349405504] Epoch[23] Batch [20]#011Speed: 196.430 samples/sec#011accuracy=0.964286\u001b[0m\n",
      "\u001b[34m[07/19/2023 13:19:57 INFO 140511349405504] Epoch[23] Train-accuracy=0.955645\u001b[0m\n",
      "\u001b[34m[07/19/2023 13:19:57 INFO 140511349405504] Epoch[23] Time cost=4.861\u001b[0m\n",
      "\u001b[34m[07/19/2023 13:19:57 INFO 140511349405504] Epoch[23] Validation-accuracy=0.593750\u001b[0m\n",
      "\u001b[34m[07/19/2023 13:19:58 INFO 140511349405504] Storing the best model with validation accuracy: 0.593750\u001b[0m\n",
      "\u001b[34m[07/19/2023 13:19:58 INFO 140511349405504] Saved checkpoint to \"/opt/ml/model/image-classification-0024.params\"\u001b[0m\n",
      "\u001b[34m[07/19/2023 13:20:01 INFO 140511349405504] Epoch[24] Batch [20]#011Speed: 193.041 samples/sec#011accuracy=0.968750\u001b[0m\n",
      "\u001b[34m[07/19/2023 13:20:03 INFO 140511349405504] Epoch[24] Train-accuracy=0.965726\u001b[0m\n",
      "\u001b[34m[07/19/2023 13:20:03 INFO 140511349405504] Epoch[24] Time cost=4.985\u001b[0m\n",
      "\u001b[34m[07/19/2023 13:20:04 INFO 140511349405504] Epoch[24] Validation-accuracy=0.536458\u001b[0m\n",
      "\u001b[34m[07/19/2023 13:20:07 INFO 140511349405504] Epoch[25] Batch [20]#011Speed: 195.648 samples/sec#011accuracy=0.956845\u001b[0m\n",
      "\u001b[34m[07/19/2023 13:20:09 INFO 140511349405504] Epoch[25] Train-accuracy=0.963710\u001b[0m\n",
      "\u001b[34m[07/19/2023 13:20:09 INFO 140511349405504] Epoch[25] Time cost=4.869\u001b[0m\n",
      "\u001b[34m[07/19/2023 13:20:09 INFO 140511349405504] Epoch[25] Validation-accuracy=0.557292\u001b[0m\n",
      "\u001b[34m[07/19/2023 13:20:13 INFO 140511349405504] Epoch[26] Batch [20]#011Speed: 197.039 samples/sec#011accuracy=0.952381\u001b[0m\n",
      "\u001b[34m[07/19/2023 13:20:15 INFO 140511349405504] Epoch[26] Train-accuracy=0.959677\u001b[0m\n",
      "\u001b[34m[07/19/2023 13:20:15 INFO 140511349405504] Epoch[26] Time cost=4.865\u001b[0m\n",
      "\u001b[34m[07/19/2023 13:20:15 INFO 140511349405504] Epoch[26] Validation-accuracy=0.546875\u001b[0m\n",
      "\u001b[34m[07/19/2023 13:20:19 INFO 140511349405504] Epoch[27] Batch [20]#011Speed: 195.769 samples/sec#011accuracy=0.977679\u001b[0m\n",
      "\u001b[34m[07/19/2023 13:20:21 INFO 140511349405504] Epoch[27] Train-accuracy=0.975806\u001b[0m\n",
      "\u001b[34m[07/19/2023 13:20:21 INFO 140511349405504] Epoch[27] Time cost=4.850\u001b[0m\n",
      "\u001b[34m[07/19/2023 13:20:21 INFO 140511349405504] Epoch[27] Validation-accuracy=0.571429\u001b[0m\n",
      "\n",
      "2023-07-19 13:20:37 Uploading - Uploading generated training model\u001b[34m[07/19/2023 13:20:25 INFO 140511349405504] Epoch[28] Batch [20]#011Speed: 196.309 samples/sec#011accuracy=0.979167\u001b[0m\n",
      "\u001b[34m[07/19/2023 13:20:26 INFO 140511349405504] Epoch[28] Train-accuracy=0.975806\u001b[0m\n",
      "\u001b[34m[07/19/2023 13:20:26 INFO 140511349405504] Epoch[28] Time cost=4.847\u001b[0m\n",
      "\u001b[34m[07/19/2023 13:20:27 INFO 140511349405504] Epoch[28] Validation-accuracy=0.588542\u001b[0m\n",
      "\u001b[34m[07/19/2023 13:20:31 INFO 140511349405504] Epoch[29] Batch [20]#011Speed: 195.146 samples/sec#011accuracy=0.985119\u001b[0m\n",
      "\u001b[34m[07/19/2023 13:20:32 INFO 140511349405504] Epoch[29] Train-accuracy=0.985887\u001b[0m\n",
      "\u001b[34m[07/19/2023 13:20:32 INFO 140511349405504] Epoch[29] Time cost=4.893\u001b[0m\n",
      "\u001b[34m[07/19/2023 13:20:33 INFO 140511349405504] Epoch[29] Validation-accuracy=0.572917\u001b[0m\n",
      "\n",
      "2023-07-19 13:21:03 Completed - Training job completed\n",
      "Training seconds: 448\n",
      "Billable seconds: 448\n"
     ]
    }
   ],
   "source": [
    "## TODO: train your model\n",
    "img_classifier_model.fit(model_inputs)\n",
    "\n",
    "# ensure there is only one execution role and that one has all the permissions\n",
    "# find the s3 bucket that has stored all the data"
   ]
  },
  {
   "cell_type": "markdown",
   "metadata": {},
   "source": [
    "If all goes well, you'll end up with a model topping out above `.8` validation accuracy. With only 1000 training samples in the CIFAR dataset, that's pretty good. We could definitely pursue data augmentation & gathering more samples to help us improve further, but for now let's proceed to deploy our model.\n",
    "\n",
    "### Getting ready to deploy\n",
    "\n",
    "To begin with, let's configure Model Monitor to track our deployment. We'll define a `DataCaptureConfig` below:"
   ]
  },
  {
   "cell_type": "code",
   "execution_count": 33,
   "metadata": {},
   "outputs": [],
   "source": [
    "from sagemaker.model_monitor import DataCaptureConfig\n",
    "\n",
    "## Set config options\n",
    "data_capture_config = DataCaptureConfig(\n",
    "    enable_capture=True,\n",
    "    sampling_percentage=100,\n",
    "    destination_s3_uri=f\"s3://{bucket}/data_capture\"\n",
    ")"
   ]
  },
  {
   "cell_type": "markdown",
   "metadata": {},
   "source": [
    "Note the `destination_s3_uri` parameter: At the end of the project, we can explore the `data_capture` directory in S3 to find crucial data about the inputs and outputs Model Monitor has observed on our model endpoint over time.\n",
    "\n",
    "With that done, deploy your model on a single `ml.m5.xlarge` instance with the data capture config attached:"
   ]
  },
  {
   "cell_type": "code",
   "execution_count": 34,
   "metadata": {},
   "outputs": [
    {
     "name": "stderr",
     "output_type": "stream",
     "text": [
      "INFO:sagemaker:Creating model with name: image-classification-2023-07-19-13-23-23-445\n",
      "INFO:sagemaker:Creating endpoint-config with name image-classification-2023-07-19-13-23-23-445\n",
      "INFO:sagemaker:Creating endpoint with name image-classification-2023-07-19-13-23-23-445\n"
     ]
    },
    {
     "name": "stdout",
     "output_type": "stream",
     "text": [
      "---------!image-classification-2023-07-19-13-23-23-445\n"
     ]
    }
   ],
   "source": [
    "deployment = img_classifier_model.deploy(\n",
    "    ## TODO: fill in deployment options\n",
    "    initial_instance_count=1,\n",
    "    instance_type='ml.m5.xlarge',\n",
    "    data_capture_config=data_capture_config\n",
    "    )\n",
    "\n",
    "endpoint = deployment.endpoint_name\n",
    "print(endpoint)"
   ]
  },
  {
   "cell_type": "markdown",
   "metadata": {},
   "source": [
    "Note the endpoint name for later as well.\n",
    "\n",
    "Next, instantiate a Predictor:"
   ]
  },
  {
   "cell_type": "code",
   "execution_count": 35,
   "metadata": {},
   "outputs": [],
   "source": [
    "predictor = sagemaker.predictor.Predictor(\n",
    "    endpoint_name=endpoint,\n",
    "    sagemaker_session=current_session # don't actually need current session\n",
    ")"
   ]
  },
  {
   "cell_type": "markdown",
   "metadata": {},
   "source": [
    "In the code snippet below we are going to prepare one of your saved images for prediction. Use the predictor to process the `payload`."
   ]
  },
  {
   "cell_type": "code",
   "execution_count": 36,
   "metadata": {},
   "outputs": [],
   "source": [
    "from sagemaker.serializers import IdentitySerializer\n",
    "import base64\n",
    "\n",
    "predictor.serializer = IdentitySerializer(\"image/png\")\n",
    "with open(\"./test/bicycle_s_001789.png\", \"rb\") as f:\n",
    "    payload = f.read()\n",
    "\n",
    "## Process the payload with your predictor\n",
    "inference = predictor.predict(payload)"
   ]
  },
  {
   "cell_type": "markdown",
   "metadata": {},
   "source": [
    "Your `inference` object is an array of two values, the predicted probability value for each of your classes (bicycle and motorcycle respectively.) So, for example, a value of `b'[0.91, 0.09]'` indicates the probability of being a bike is 91% and being a motorcycle is 9%."
   ]
  },
  {
   "cell_type": "code",
   "execution_count": 38,
   "metadata": {},
   "outputs": [
    {
     "name": "stdout",
     "output_type": "stream",
     "text": [
      "b'[0.8601636290550232, 0.1398364007472992]'\n"
     ]
    }
   ],
   "source": [
    "print(inference)"
   ]
  },
  {
   "cell_type": "code",
   "execution_count": 129,
   "metadata": {
    "tags": []
   },
   "outputs": [
    {
     "name": "stderr",
     "output_type": "stream",
     "text": [
      "INFO:sagemaker:Deleting endpoint configuration with name: image-classification-2023-07-19-13-23-23-445\n",
      "INFO:sagemaker:Deleting endpoint with name: image-classification-2023-07-19-13-23-23-445\n"
     ]
    }
   ],
   "source": [
    "# Run this if done with coding\n",
    "predictor.delete_endpoint()"
   ]
  },
  {
   "cell_type": "code",
   "execution_count": 46,
   "metadata": {},
   "outputs": [
    {
     "data": {
      "text/plain": [
       "'{\"image_data\": \"\", \"s3_bucket\": \"sagemaker-us-east-1-388656969977\", \"s3_key\": \"test/safety_bicycle_s_001575.png\"}'"
      ]
     },
     "execution_count": 46,
     "metadata": {},
     "output_type": "execute_result"
    }
   ],
   "source": [
    "import random\n",
    "import boto3\n",
    "import json\n",
    "\n",
    "\n",
    "def generate_test_case():\n",
    "    # Setup s3 in boto3\n",
    "    s3 = boto3.resource('s3')\n",
    "    \n",
    "    # Randomly pick from sfn or test folders in our bucket\n",
    "    objects = s3.Bucket(bucket).objects.filter(Prefix=\"test\", )\n",
    "    \n",
    "    # Grab any random object key from that folder!\n",
    "    obj = random.choice([x.key for x in objects])\n",
    "    \n",
    "    return json.dumps({\n",
    "        \"image_data\": \"\",\n",
    "        \"s3_bucket\": bucket,\n",
    "        \"s3_key\": obj\n",
    "    })\n",
    "generate_test_case()"
   ]
  },
  {
   "cell_type": "markdown",
   "metadata": {},
   "source": [
    "In the Step Function dashboard for your new function, you can create new executions and copy in the generated test cases. Do several executions so that you can generate data you can evaluate and visualize.\n",
    "\n",
    "Once you've done several executions, let's visualize the record of our inferences. Pull in the JSONLines data from your inferences like so:"
   ]
  },
  {
   "cell_type": "code",
   "execution_count": 47,
   "metadata": {},
   "outputs": [
    {
     "data": {
      "text/plain": [
       "['captured_data/image-classification-2023-07-17-14-18-31-150/AllTraffic/2023/07/17/14/24-07-630-af7ba644-8eff-493e-b29a-bf1841e20252.jsonl',\n",
       " 'captured_data/image-classification-2023-07-19-02-06-17-905/AllTraffic/2023/07/19/02/17-46-157-5162a8d9-feb8-4812-a4bd-4e9215cff2f3.jsonl',\n",
       " 'captured_data/image-classification-2023-07-19-02-18-44-456/AllTraffic/2023/07/19/02/28-11-047-bee3d71c-be7f-477f-a61b-17d472f644d7.jsonl',\n",
       " 'captured_data/image-classification-2023-07-19-13-23-23-445/AllTraffic/2023/07/19/13/28-47-230-90c51341-7360-44c2-b76c-266effee5458.jsonl',\n",
       " 'captured_data/image-classification-2023-07-19-13-23-23-445/AllTraffic/2023/07/19/13/30-45-888-a2516adb-35ab-457d-abe4-555b8451a50e.jsonl',\n",
       " 'captured_data/image-classification-2023-07-19-13-23-23-445/AllTraffic/2023/07/19/14/25-54-688-a79be8f4-d747-4c32-8ac7-e44dc3156d67.jsonl',\n",
       " 'captured_data/image-classification-2023-07-19-13-23-23-445/AllTraffic/2023/07/19/14/52-21-831-7b084f86-8bb5-4aa8-9d44-041e38954e8f.jsonl',\n",
       " 'captured_data/image-classification-2023-07-19-13-23-23-445/AllTraffic/2023/07/19/15/05-53-857-2321670f-f61d-48bf-87ef-dca814385555.jsonl',\n",
       " 'captured_data/image-classification-2023-07-19-13-23-23-445/AllTraffic/2023/07/19/15/08-31-011-9b8d82fd-cf2e-4ccd-9a06-1322589b9dc7.jsonl',\n",
       " 'captured_data/image-classification-2023-07-19-13-23-23-445/AllTraffic/2023/07/19/15/10-05-450-5b758280-bcf0-43e5-8120-3d2909808a14.jsonl',\n",
       " 'captured_data/image-classification-2023-07-19-13-23-23-445/AllTraffic/2023/07/19/15/11-23-308-379b6905-20d6-4ab0-9f97-147a21cd6cfa.jsonl']"
      ]
     },
     "execution_count": 47,
     "metadata": {},
     "output_type": "execute_result"
    }
   ],
   "source": [
    "from sagemaker.s3 import S3Downloader\n",
    "\n",
    "# In S3 your data will be saved to a datetime-aware path\n",
    "# Find a path related to a datetime you're interested in\n",
    "data_path = f's3://{bucket}/data_capture/image-classification-2023-07-20-21-44-49-505/AllTraffic/2023/07/20/21' ## Fill in the path to your captured data\n",
    "\n",
    "S3Downloader.download(data_path, \"captured_data\")\n",
    "\n",
    "# Feel free to repeat this multiple times and pull in more data"
   ]
  },
  {
   "cell_type": "markdown",
   "metadata": {},
   "source": [
    "The data are in JSONLines format, where multiple valid JSON objects are stacked on top of eachother in a single `jsonl` file. We'll import an open-source library, `jsonlines` that was purpose built for parsing this format."
   ]
  },
  {
   "cell_type": "code",
   "execution_count": 48,
   "metadata": {},
   "outputs": [
    {
     "name": "stdout",
     "output_type": "stream",
     "text": [
      "Requirement already satisfied: jsonlines in /opt/conda/lib/python3.7/site-packages (3.1.0)\n",
      "Requirement already satisfied: attrs>=19.2.0 in /opt/conda/lib/python3.7/site-packages (from jsonlines) (23.1.0)\n",
      "Requirement already satisfied: typing-extensions in /opt/conda/lib/python3.7/site-packages (from jsonlines) (4.6.3)\n",
      "Requirement already satisfied: importlib-metadata in /opt/conda/lib/python3.7/site-packages (from attrs>=19.2.0->jsonlines) (6.6.0)\n",
      "Requirement already satisfied: zipp>=0.5 in /opt/conda/lib/python3.7/site-packages (from importlib-metadata->attrs>=19.2.0->jsonlines) (2.2.0)\n",
      "\u001b[33mWARNING: Running pip as the 'root' user can result in broken permissions and conflicting behaviour with the system package manager. It is recommended to use a virtual environment instead: https://pip.pypa.io/warnings/venv\u001b[0m\u001b[33m\n",
      "\u001b[0m\n",
      "\u001b[1m[\u001b[0m\u001b[34;49mnotice\u001b[0m\u001b[1;39;49m]\u001b[0m\u001b[39;49m A new release of pip is available: \u001b[0m\u001b[31;49m23.1.2\u001b[0m\u001b[39;49m -> \u001b[0m\u001b[32;49m23.2\u001b[0m\n",
      "\u001b[1m[\u001b[0m\u001b[34;49mnotice\u001b[0m\u001b[1;39;49m]\u001b[0m\u001b[39;49m To update, run: \u001b[0m\u001b[32;49mpip install --upgrade pip\u001b[0m\n"
     ]
    }
   ],
   "source": [
    "!pip install jsonlines\n",
    "import jsonlines"
   ]
  },
  {
   "cell_type": "markdown",
   "metadata": {},
   "source": [
    "Now we can extract the data from each of the source files:"
   ]
  },
  {
   "cell_type": "code",
   "execution_count": 56,
   "metadata": {},
   "outputs": [
    {
     "name": "stdout",
     "output_type": "stream",
     "text": [
      "['30-45-888-a2516adb-35ab-457d-abe4-555b8451a50e.jsonl', '05-53-857-2321670f-f61d-48bf-87ef-dca814385555.jsonl', '28-47-230-90c51341-7360-44c2-b76c-266effee5458.jsonl', '08-31-011-9b8d82fd-cf2e-4ccd-9a06-1322589b9dc7.jsonl', '11-23-308-379b6905-20d6-4ab0-9f97-147a21cd6cfa.jsonl', '10-05-450-5b758280-bcf0-43e5-8120-3d2909808a14.jsonl']\n"
     ]
    }
   ],
   "source": [
    "import os\n",
    "\n",
    "# List the file names we downloaded\n",
    "file_handles = os.listdir(\"./captured_data\")\n",
    "# print(file_handles)\n",
    "\n",
    "# temp = file_handles\n",
    "# index = 0\n",
    "\n",
    "# for file in temp:\n",
    "#     if file[0] == 'i':\n",
    "#         print(file_handles[index])\n",
    "#         del file_handles[index]\n",
    "#     index = index + 1\n",
    "    \n",
    "# print(file_handles)\n",
    "\n",
    "index = 0\n",
    "image_indicies = []\n",
    "for file in file_handles:\n",
    "    if file[-1] != 'l':\n",
    "        image_indicies.append(index)\n",
    "        index -= 1\n",
    "    index += 1\n",
    "\n",
    "# print(image_indicies)\n",
    "\n",
    "for image_index in image_indicies:\n",
    "    del file_handles[image_index]\n",
    "    \n",
    "print(file_handles)\n",
    "\n",
    "\n",
    "# Dump all the data into an array\n",
    "json_data = []\n",
    "mypath = \"./captured_data\"\n",
    "# for (dirpath, dirnames, filenames) in os.walk(mypath):\n",
    "#     if len(filenames) > 0:\n",
    "#         for name in filenames:\n",
    "#             with jsonlines.open(f\"./captured_data/{jsonl}\") as f:\n",
    "#                 json_data.append(f.read())\n",
    "\n",
    "\n",
    "for jsonl in file_handles:\n",
    "    with jsonlines.open(f\"./captured_data/{jsonl}\") as f:\n",
    "        json_data.append(f.read())"
   ]
  },
  {
   "cell_type": "markdown",
   "metadata": {},
   "source": [
    "The data should now be a list of dictionaries, with significant nesting. We'll give you an example of some code that grabs data out of the objects and visualizes it:"
   ]
  },
  {
   "cell_type": "code",
   "execution_count": 61,
   "metadata": {},
   "outputs": [
    {
     "data": {
      "text/plain": [
       "([0.8601636290550232, 0.1398364007472992], '2023-07-19T13:28:47Z')"
      ]
     },
     "execution_count": 61,
     "metadata": {},
     "output_type": "execute_result"
    }
   ],
   "source": [
    "# Define how we'll get our data\n",
    "def simple_getter(obj):\n",
    "    inferences = obj[\"captureData\"][\"endpointOutput\"][\"data\"]\n",
    "    timestamp = obj[\"eventMetadata\"][\"inferenceTime\"]\n",
    "    return json.loads(inferences), timestamp\n",
    "\n",
    "simple_getter(json_data[2])"
   ]
  },
  {
   "cell_type": "markdown",
   "metadata": {},
   "source": [
    "Finally, here's an example of a visualization you can build with this data. In this last part, you will take some time and build your own - the captured data has the input images, the resulting inferences, and the timestamps."
   ]
  },
  {
   "cell_type": "code",
   "execution_count": 102,
   "metadata": {},
   "outputs": [
    {
     "data": {
      "image/png": "[encoded data removed]",
      "text/plain": [
       "<Figure size 640x480 with 1 Axes>"
      ]
     },
     "metadata": {},
     "output_type": "display_data"
    }
   ],
   "source": [
    "# Populate the data for the x and y axis\n",
    "x = []\n",
    "y = []\n",
    "\n",
    "# confidence and classification\n",
    "for obj in json_data:\n",
    "    inference, timestamp = simple_getter(obj)\n",
    "    # y.append(max(inference))\n",
    "    # x.append(timestamp)\n",
    "    if (inference[0] > .93):\n",
    "        y.append(inference[0])\n",
    "        x.append(\"Bicycle\")\n",
    "    elif (inference[1] > .93):\n",
    "        y.append(inference[1])\n",
    "        x.append(\"Motorcycle\")\n",
    "    elif (inference[0] > .88):\n",
    "        y.append(inference[0])\n",
    "        x.append(\"Not Confident Bicycle\")\n",
    "    elif (inference[1] > .88):\n",
    "        y.append(inference[1])\n",
    "        x.append(\"Not Confident Motorcycle\")\n",
    "    elif (inference[0] < .88):\n",
    "        y.append(.88)\n",
    "        x.append(\"Not Confident Bicycle\")\n",
    "    elif (inference[1] > .88):\n",
    "        y.append(.88)\n",
    "        x.append(\"Not Confident Motorcycle\")\n",
    "\n",
    "# Visualization example\n",
    "# Plot the data\n",
    "plt.scatter(x, y, c=['r' if k<.93 else 'b' for k in y ])\n",
    "plt.axhline(y=0.93, color='g', linestyle='--')\n",
    "plt.ylim(bottom=.88)\n",
    "\n",
    "# Add labels\n",
    "plt.ylabel(\"Confidence\")\n",
    "plt.suptitle(\"Observed Recent Inferences\", size=14)\n",
    "plt.title(\"Inference Result and Confidence of Each Inference\", size=10)\n",
    "\n",
    "# Give it some pizzaz!\n",
    "plt.style.use(\"Solarize_Light2\")\n",
    "plt.gcf().autofmt_xdate()"
   ]
  }
 ],
 "metadata": {
  "availableInstances": [
   {
    "_defaultOrder": 0,
    "_isFastLaunch": true,
    "category": "General purpose",
    "gpuNum": 0,
    "hideHardwareSpecs": false,
    "memoryGiB": 4,
    "name": "ml.t3.medium",
    "vcpuNum": 2
   },
   {
    "_defaultOrder": 1,
    "_isFastLaunch": false,
    "category": "General purpose",
    "gpuNum": 0,
    "hideHardwareSpecs": false,
    "memoryGiB": 8,
    "name": "ml.t3.large",
    "vcpuNum": 2
   },
   {
    "_defaultOrder": 2,
    "_isFastLaunch": false,
    "category": "General purpose",
    "gpuNum": 0,
    "hideHardwareSpecs": false,
    "memoryGiB": 16,
    "name": "ml.t3.xlarge",
    "vcpuNum": 4
   },
   {
    "_defaultOrder": 3,
    "_isFastLaunch": false,
    "category": "General purpose",
    "gpuNum": 0,
    "hideHardwareSpecs": false,
    "memoryGiB": 32,
    "name": "ml.t3.2xlarge",
    "vcpuNum": 8
   },
   {
    "_defaultOrder": 4,
    "_isFastLaunch": true,
    "category": "General purpose",
    "gpuNum": 0,
    "hideHardwareSpecs": false,
    "memoryGiB": 8,
    "name": "ml.m5.large",
    "vcpuNum": 2
   },
   {
    "_defaultOrder": 5,
    "_isFastLaunch": false,
    "category": "General purpose",
    "gpuNum": 0,
    "hideHardwareSpecs": false,
    "memoryGiB": 16,
    "name": "ml.m5.xlarge",
    "vcpuNum": 4
   },
   {
    "_defaultOrder": 6,
    "_isFastLaunch": false,
    "category": "General purpose",
    "gpuNum": 0,
    "hideHardwareSpecs": false,
    "memoryGiB": 32,
    "name": "ml.m5.2xlarge",
    "vcpuNum": 8
   },
   {
    "_defaultOrder": 7,
    "_isFastLaunch": false,
    "category": "General purpose",
    "gpuNum": 0,
    "hideHardwareSpecs": false,
    "memoryGiB": 64,
    "name": "ml.m5.4xlarge",
    "vcpuNum": 16
   },
   {
    "_defaultOrder": 8,
    "_isFastLaunch": false,
    "category": "General purpose",
    "gpuNum": 0,
    "hideHardwareSpecs": false,
    "memoryGiB": 128,
    "name": "ml.m5.8xlarge",
    "vcpuNum": 32
   },
   {
    "_defaultOrder": 9,
    "_isFastLaunch": false,
    "category": "General purpose",
    "gpuNum": 0,
    "hideHardwareSpecs": false,
    "memoryGiB": 192,
    "name": "ml.m5.12xlarge",
    "vcpuNum": 48
   },
   {
    "_defaultOrder": 10,
    "_isFastLaunch": false,
    "category": "General purpose",
    "gpuNum": 0,
    "hideHardwareSpecs": false,
    "memoryGiB": 256,
    "name": "ml.m5.16xlarge",
    "vcpuNum": 64
   },
   {
    "_defaultOrder": 11,
    "_isFastLaunch": false,
    "category": "General purpose",
    "gpuNum": 0,
    "hideHardwareSpecs": false,
    "memoryGiB": 384,
    "name": "ml.m5.24xlarge",
    "vcpuNum": 96
   },
   {
    "_defaultOrder": 12,
    "_isFastLaunch": false,
    "category": "General purpose",
    "gpuNum": 0,
    "hideHardwareSpecs": false,
    "memoryGiB": 8,
    "name": "ml.m5d.large",
    "vcpuNum": 2
   },
   {
    "_defaultOrder": 13,
    "_isFastLaunch": false,
    "category": "General purpose",
    "gpuNum": 0,
    "hideHardwareSpecs": false,
    "memoryGiB": 16,
    "name": "ml.m5d.xlarge",
    "vcpuNum": 4
   },
   {
    "_defaultOrder": 14,
    "_isFastLaunch": false,
    "category": "General purpose",
    "gpuNum": 0,
    "hideHardwareSpecs": false,
    "memoryGiB": 32,
    "name": "ml.m5d.2xlarge",
    "vcpuNum": 8
   },
   {
    "_defaultOrder": 15,
    "_isFastLaunch": false,
    "category": "General purpose",
    "gpuNum": 0,
    "hideHardwareSpecs": false,
    "memoryGiB": 64,
    "name": "ml.m5d.4xlarge",
    "vcpuNum": 16
   },
   {
    "_defaultOrder": 16,
    "_isFastLaunch": false,
    "category": "General purpose",
    "gpuNum": 0,
    "hideHardwareSpecs": false,
    "memoryGiB": 128,
    "name": "ml.m5d.8xlarge",
    "vcpuNum": 32
   },
   {
    "_defaultOrder": 17,
    "_isFastLaunch": false,
    "category": "General purpose",
    "gpuNum": 0,
    "hideHardwareSpecs": false,
    "memoryGiB": 192,
    "name": "ml.m5d.12xlarge",
    "vcpuNum": 48
   },
   {
    "_defaultOrder": 18,
    "_isFastLaunch": false,
    "category": "General purpose",
    "gpuNum": 0,
    "hideHardwareSpecs": false,
    "memoryGiB": 256,
    "name": "ml.m5d.16xlarge",
    "vcpuNum": 64
   },
   {
    "_defaultOrder": 19,
    "_isFastLaunch": false,
    "category": "General purpose",
    "gpuNum": 0,
    "hideHardwareSpecs": false,
    "memoryGiB": 384,
    "name": "ml.m5d.24xlarge",
    "vcpuNum": 96
   },
   {
    "_defaultOrder": 20,
    "_isFastLaunch": false,
    "category": "General purpose",
    "gpuNum": 0,
    "hideHardwareSpecs": true,
    "memoryGiB": 0,
    "name": "ml.geospatial.interactive",
    "supportedImageNames": [
     "sagemaker-geospatial-v1-0"
    ],
    "vcpuNum": 0
   },
   {
    "_defaultOrder": 21,
    "_isFastLaunch": true,
    "category": "Compute optimized",
    "gpuNum": 0,
    "hideHardwareSpecs": false,
    "memoryGiB": 4,
    "name": "ml.c5.large",
    "vcpuNum": 2
   },
   {
    "_defaultOrder": 22,
    "_isFastLaunch": false,
    "category": "Compute optimized",
    "gpuNum": 0,
    "hideHardwareSpecs": false,
    "memoryGiB": 8,
    "name": "ml.c5.xlarge",
    "vcpuNum": 4
   },
   {
    "_defaultOrder": 23,
    "_isFastLaunch": false,
    "category": "Compute optimized",
    "gpuNum": 0,
    "hideHardwareSpecs": false,
    "memoryGiB": 16,
    "name": "ml.c5.2xlarge",
    "vcpuNum": 8
   },
   {
    "_defaultOrder": 24,
    "_isFastLaunch": false,
    "category": "Compute optimized",
    "gpuNum": 0,
    "hideHardwareSpecs": false,
    "memoryGiB": 32,
    "name": "ml.c5.4xlarge",
    "vcpuNum": 16
   },
   {
    "_defaultOrder": 25,
    "_isFastLaunch": false,
    "category": "Compute optimized",
    "gpuNum": 0,
    "hideHardwareSpecs": false,
    "memoryGiB": 72,
    "name": "ml.c5.9xlarge",
    "vcpuNum": 36
   },
   {
    "_defaultOrder": 26,
    "_isFastLaunch": false,
    "category": "Compute optimized",
    "gpuNum": 0,
    "hideHardwareSpecs": false,
    "memoryGiB": 96,
    "name": "ml.c5.12xlarge",
    "vcpuNum": 48
   },
   {
    "_defaultOrder": 27,
    "_isFastLaunch": false,
    "category": "Compute optimized",
    "gpuNum": 0,
    "hideHardwareSpecs": false,
    "memoryGiB": 144,
    "name": "ml.c5.18xlarge",
    "vcpuNum": 72
   },
   {
    "_defaultOrder": 28,
    "_isFastLaunch": false,
    "category": "Compute optimized",
    "gpuNum": 0,
    "hideHardwareSpecs": false,
    "memoryGiB": 192,
    "name": "ml.c5.24xlarge",
    "vcpuNum": 96
   },
   {
    "_defaultOrder": 29,
    "_isFastLaunch": true,
    "category": "Accelerated computing",
    "gpuNum": 1,
    "hideHardwareSpecs": false,
    "memoryGiB": 16,
    "name": "ml.g4dn.xlarge",
    "vcpuNum": 4
   },
   {
    "_defaultOrder": 30,
    "_isFastLaunch": false,
    "category": "Accelerated computing",
    "gpuNum": 1,
    "hideHardwareSpecs": false,
    "memoryGiB": 32,
    "name": "ml.g4dn.2xlarge",
    "vcpuNum": 8
   },
   {
    "_defaultOrder": 31,
    "_isFastLaunch": false,
    "category": "Accelerated computing",
    "gpuNum": 1,
    "hideHardwareSpecs": false,
    "memoryGiB": 64,
    "name": "ml.g4dn.4xlarge",
    "vcpuNum": 16
   },
   {
    "_defaultOrder": 32,
    "_isFastLaunch": false,
    "category": "Accelerated computing",
    "gpuNum": 1,
    "hideHardwareSpecs": false,
    "memoryGiB": 128,
    "name": "ml.g4dn.8xlarge",
    "vcpuNum": 32
   },
   {
    "_defaultOrder": 33,
    "_isFastLaunch": false,
    "category": "Accelerated computing",
    "gpuNum": 4,
    "hideHardwareSpecs": false,
    "memoryGiB": 192,
    "name": "ml.g4dn.12xlarge",
    "vcpuNum": 48
   },
   {
    "_defaultOrder": 34,
    "_isFastLaunch": false,
    "category": "Accelerated computing",
    "gpuNum": 1,
    "hideHardwareSpecs": false,
    "memoryGiB": 256,
    "name": "ml.g4dn.16xlarge",
    "vcpuNum": 64
   },
   {
    "_defaultOrder": 35,
    "_isFastLaunch": false,
    "category": "Accelerated computing",
    "gpuNum": 1,
    "hideHardwareSpecs": false,
    "memoryGiB": 61,
    "name": "ml.p3.2xlarge",
    "vcpuNum": 8
   },
   {
    "_defaultOrder": 36,
    "_isFastLaunch": false,
    "category": "Accelerated computing",
    "gpuNum": 4,
    "hideHardwareSpecs": false,
    "memoryGiB": 244,
    "name": "ml.p3.8xlarge",
    "vcpuNum": 32
   },
   {
    "_defaultOrder": 37,
    "_isFastLaunch": false,
    "category": "Accelerated computing",
    "gpuNum": 8,
    "hideHardwareSpecs": false,
    "memoryGiB": 488,
    "name": "ml.p3.16xlarge",
    "vcpuNum": 64
   },
   {
    "_defaultOrder": 38,
    "_isFastLaunch": false,
    "category": "Accelerated computing",
    "gpuNum": 8,
    "hideHardwareSpecs": false,
    "memoryGiB": 768,
    "name": "ml.p3dn.24xlarge",
    "vcpuNum": 96
   },
   {
    "_defaultOrder": 39,
    "_isFastLaunch": false,
    "category": "Memory Optimized",
    "gpuNum": 0,
    "hideHardwareSpecs": false,
    "memoryGiB": 16,
    "name": "ml.r5.large",
    "vcpuNum": 2
   },
   {
    "_defaultOrder": 40,
    "_isFastLaunch": false,
    "category": "Memory Optimized",
    "gpuNum": 0,
    "hideHardwareSpecs": false,
    "memoryGiB": 32,
    "name": "ml.r5.xlarge",
    "vcpuNum": 4
   },
   {
    "_defaultOrder": 41,
    "_isFastLaunch": false,
    "category": "Memory Optimized",
    "gpuNum": 0,
    "hideHardwareSpecs": false,
    "memoryGiB": 64,
    "name": "ml.r5.2xlarge",
    "vcpuNum": 8
   },
   {
    "_defaultOrder": 42,
    "_isFastLaunch": false,
    "category": "Memory Optimized",
    "gpuNum": 0,
    "hideHardwareSpecs": false,
    "memoryGiB": 128,
    "name": "ml.r5.4xlarge",
    "vcpuNum": 16
   },
   {
    "_defaultOrder": 43,
    "_isFastLaunch": false,
    "category": "Memory Optimized",
    "gpuNum": 0,
    "hideHardwareSpecs": false,
    "memoryGiB": 256,
    "name": "ml.r5.8xlarge",
    "vcpuNum": 32
   },
   {
    "_defaultOrder": 44,
    "_isFastLaunch": false,
    "category": "Memory Optimized",
    "gpuNum": 0,
    "hideHardwareSpecs": false,
    "memoryGiB": 384,
    "name": "ml.r5.12xlarge",
    "vcpuNum": 48
   },
   {
    "_defaultOrder": 45,
    "_isFastLaunch": false,
    "category": "Memory Optimized",
    "gpuNum": 0,
    "hideHardwareSpecs": false,
    "memoryGiB": 512,
    "name": "ml.r5.16xlarge",
    "vcpuNum": 64
   },
   {
    "_defaultOrder": 46,
    "_isFastLaunch": false,
    "category": "Memory Optimized",
    "gpuNum": 0,
    "hideHardwareSpecs": false,
    "memoryGiB": 768,
    "name": "ml.r5.24xlarge",
    "vcpuNum": 96
   },
   {
    "_defaultOrder": 47,
    "_isFastLaunch": false,
    "category": "Accelerated computing",
    "gpuNum": 1,
    "hideHardwareSpecs": false,
    "memoryGiB": 16,
    "name": "ml.g5.xlarge",
    "vcpuNum": 4
   },
   {
    "_defaultOrder": 48,
    "_isFastLaunch": false,
    "category": "Accelerated computing",
    "gpuNum": 1,
    "hideHardwareSpecs": false,
    "memoryGiB": 32,
    "name": "ml.g5.2xlarge",
    "vcpuNum": 8
   },
   {
    "_defaultOrder": 49,
    "_isFastLaunch": false,
    "category": "Accelerated computing",
    "gpuNum": 1,
    "hideHardwareSpecs": false,
    "memoryGiB": 64,
    "name": "ml.g5.4xlarge",
    "vcpuNum": 16
   },
   {
    "_defaultOrder": 50,
    "_isFastLaunch": false,
    "category": "Accelerated computing",
    "gpuNum": 1,
    "hideHardwareSpecs": false,
    "memoryGiB": 128,
    "name": "ml.g5.8xlarge",
    "vcpuNum": 32
   },
   {
    "_defaultOrder": 51,
    "_isFastLaunch": false,
    "category": "Accelerated computing",
    "gpuNum": 1,
    "hideHardwareSpecs": false,
    "memoryGiB": 256,
    "name": "ml.g5.16xlarge",
    "vcpuNum": 64
   },
   {
    "_defaultOrder": 52,
    "_isFastLaunch": false,
    "category": "Accelerated computing",
    "gpuNum": 4,
    "hideHardwareSpecs": false,
    "memoryGiB": 192,
    "name": "ml.g5.12xlarge",
    "vcpuNum": 48
   },
   {
    "_defaultOrder": 53,
    "_isFastLaunch": false,
    "category": "Accelerated computing",
    "gpuNum": 4,
    "hideHardwareSpecs": false,
    "memoryGiB": 384,
    "name": "ml.g5.24xlarge",
    "vcpuNum": 96
   },
   {
    "_defaultOrder": 54,
    "_isFastLaunch": false,
    "category": "Accelerated computing",
    "gpuNum": 8,
    "hideHardwareSpecs": false,
    "memoryGiB": 768,
    "name": "ml.g5.48xlarge",
    "vcpuNum": 192
   },
   {
    "_defaultOrder": 55,
    "_isFastLaunch": false,
    "category": "Accelerated computing",
    "gpuNum": 8,
    "hideHardwareSpecs": false,
    "memoryGiB": 1152,
    "name": "ml.p4d.24xlarge",
    "vcpuNum": 96
   },
   {
    "_defaultOrder": 56,
    "_isFastLaunch": false,
    "category": "Accelerated computing",
    "gpuNum": 8,
    "hideHardwareSpecs": false,
    "memoryGiB": 1152,
    "name": "ml.p4de.24xlarge",
    "vcpuNum": 96
   }
  ],
  "kernelspec": {
   "display_name": "Python 3 (Data Science)",
   "language": "python",
   "name": "python3__SAGEMAKER_INTERNAL__arn:aws:sagemaker:us-east-1:081325390199:image/datascience-1.0"
  },
  "language_info": {
   "codemirror_mode": {
    "name": "ipython",
    "version": 3
   },
   "file_extension": ".py",
   "mimetype": "text/x-python",
   "name": "python",
   "nbconvert_exporter": "python",
   "pygments_lexer": "ipython3",
   "version": "3.7.10"
  }
 },
 "nbformat": 4,
 "nbformat_minor": 4
}
